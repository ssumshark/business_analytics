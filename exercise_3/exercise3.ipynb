{
 "cells": [
  {
   "cell_type": "markdown",
   "id": "a2e220b7",
   "metadata": {},
   "source": [
    "# 수업시간 내용 정리"
   ]
  },
  {
   "cell_type": "markdown",
   "id": "b0940292",
   "metadata": {},
   "source": [
    "## 텍스트 마이닝 과정"
   ]
  },
  {
   "cell_type": "markdown",
   "id": "82d58956",
   "metadata": {},
   "source": [
    "1. Tokenize\n",
    "Document를 Sentence의 집합으로 분리, Sentence를 Word의 집합으로 분리\n",
    "2. Text Normalization\n",
    "동일한 의미의 단어가 다른 형태를 갖는 것을 보완\n",
    "- 방법 2가지\n",
    "1. Stemming (어간 추출): 의미가 아닌 규칙에 의한 변환 ex. -s는 단수, ing는 동명사\n",
    "2. Lemmatization (표제어 추출): 사전을 이용하여 단어의 원형을 추출, 여기에 더해서 품사를 고려, Stemming의 한계를 보완\n",
    "3. POS-tagging (품사 태깅)\n",
    "토큰화와 정규화 작업을 통해 나뉜 형태소에 품사를 결정하여 할당\n",
    "4. Chunking (구 만들기)\n",
    "두 단어 이상의 집합인 구로 만들기, 텍스트로부터 Information Extraction(정보추출)을 하기 위 한 전단계로 봄\n",
    "\n",
    "추가. Information Extraction을 하기 위해서는 개체명 인식(Named Entity Recognition, NER) 사용 가능, \n",
    "NER은 텍스트로부터 뭔가 의미 있는 정보를 추출하기 위한 방법으로 사용\n",
    "\n",
    "5. BOW (Bag of Words는 Words의 순서가 없다고 가정한다는 의미)\n",
    "• Vector Space Model: 모든 문서에 한번 이상 나타난 단어들에 대해 유 (1)/무(0) 로 문서를 표현\n",
    "• count vector: 단어의 유/무 대신 단어 가 문서에 나타난 횟수로 표현\n",
    "TFIDF(Term Frequency - Inverse Document Frequency): count vector의 문제점 보완, \n",
    "단어의 count를 단어가 나타난 문서의 수로 나눠서 자주 등장하지 않는 단어의 weight를 올림\n",
    "BOW를 통해 비정형 데이터인 텍스트를 숫자로 표현되는 fixed vector로 만들어 주었으면 \n",
    "Naïve Bayes, Logistic regression 등과 같은 모델 분석 방법을 통해 분석할 수 있음\n"
   ]
  },
  {
   "cell_type": "markdown",
   "id": "6308a2e9",
   "metadata": {},
   "source": [
    "# urllib"
   ]
  },
  {
   "cell_type": "markdown",
   "id": "83eba605",
   "metadata": {},
   "source": [
    "## 1.1. urllib.request를 이용한 다운로드"
   ]
  },
  {
   "cell_type": "code",
   "execution_count": 35,
   "id": "30c71ef6",
   "metadata": {},
   "outputs": [
    {
     "name": "stdout",
     "output_type": "stream",
     "text": [
      "저장되었습니다\n"
     ]
    }
   ],
   "source": [
    "from urllib import request # 라이브러리 읽어들이기, urllib는 웹과 관련된 데이터를 손쉽게 이용하도록 도와주는 라이브러리\n",
    "url=\"http://uta.pw/shodou/img/28/214.png\" \n",
    "savename=\"test.png\"\n",
    "\n",
    "request.urlretrieve(url, savename) #urlretrieve함수를 통해 test.png라는 이름으로 png 파일 저장 가능\n",
    "print(\"저장되었습니다\")"
   ]
  },
  {
   "cell_type": "markdown",
   "id": "3c1c63ac",
   "metadata": {},
   "source": [
    "## 1.2. urlopen으로 파일에 저장하는 방법"
   ]
  },
  {
   "cell_type": "code",
   "execution_count": 4,
   "id": "457ccd3b",
   "metadata": {},
   "outputs": [
    {
     "name": "stdout",
     "output_type": "stream",
     "text": [
      "저장되었습니다..\n"
     ]
    }
   ],
   "source": [
    "# URL과 저장경로 지정하기\n",
    "url = \"http://uta.pw/shodou/img/28/214.png\"\n",
    "savename = \"test1.png\"\n",
    "\n",
    "\n",
    "mem = request.urlopen(url).read()\n",
    "#urlopen함수는 읽어들인 데이터를 임의의 변수에 저장하여 처리 가능\n",
    "with open(savename, mode=\"wb\") as f: #바이너리(b)형태로 쓰기(w)\n",
    "    f.write(mem)\n",
    "    print(\"저장되었습니다..\")"
   ]
  },
  {
   "cell_type": "markdown",
   "id": "c67efadc",
   "metadata": {},
   "source": [
    "## 1.3. API 사용하기"
   ]
  },
  {
   "cell_type": "code",
   "execution_count": 5,
   "id": "9df3d769",
   "metadata": {},
   "outputs": [
    {
     "name": "stdout",
     "output_type": "stream",
     "text": [
      "[ip]\n",
      "API_URI=http://api.aoikujira.com/ip/get.php\n",
      "REMOTE_ADDR=210.100.248.151\n",
      "REMOTE_HOST=210.100.248.151\n",
      "REMOTE_PORT=59608\n",
      "HTTP_HOST=api.aoikujira.com\n",
      "HTTP_USER_AGENT=Python-urllib/3.8\n",
      "HTTP_ACCEPT_LANGUAGE=\n",
      "HTTP_ACCEPT_CHARSET=\n",
      "SERVER_PORT=80\n",
      "FORMAT=ini\n",
      "\n",
      "\n"
     ]
    }
   ],
   "source": [
    "url=\"http://api.aoikujira.com/ip/ini\" #IP 주소에 접근\n",
    "res=request.urlopen(url) #urlopen함수로 데이터 읽어들이기\n",
    "data=res.read()\n",
    "\n",
    "text=data.decode(\"utf-8\") #'utf-8'형식의 바이트 코드를 문자열로 변환하기\n",
    "print(text) "
   ]
  },
  {
   "cell_type": "markdown",
   "id": "6759c1fd",
   "metadata": {},
   "source": [
    "# BeautifulSoup"
   ]
  },
  {
   "cell_type": "code",
   "execution_count": 6,
   "id": "5af688c3",
   "metadata": {},
   "outputs": [
    {
     "name": "stdout",
     "output_type": "stream",
     "text": [
      "Requirement already satisfied: beautifulsoup4 in c:\\users\\user\\anaconda3\\lib\\site-packages (4.9.3)\n",
      "Requirement already satisfied: soupsieve>1.2 in c:\\users\\user\\anaconda3\\lib\\site-packages (from beautifulsoup4) (2.2.1)\n",
      "Note: you may need to restart the kernel to use updated packages.\n"
     ]
    }
   ],
   "source": [
    "pip install beautifulsoup4 # html을 의미있는 객체로 만들어서 사용자가 분석하기 쉽게 만들어주는 라이브러리"
   ]
  },
  {
   "cell_type": "code",
   "execution_count": 7,
   "id": "1842d741",
   "metadata": {},
   "outputs": [],
   "source": [
    "from bs4 import BeautifulSoup"
   ]
  },
  {
   "cell_type": "code",
   "execution_count": 8,
   "id": "c4eaf625",
   "metadata": {},
   "outputs": [],
   "source": [
    "html = \"\"\"\n",
    "<html><body>\n",
    "  <h1>스크레이핑이란?</h1>\n",
    "  <p>웹 페이지를 분석하는 것</p>\n",
    "  <p>원하는 부분을 추출하는 것</p>\n",
    "</body></html>\n",
    "\"\"\""
   ]
  },
  {
   "cell_type": "markdown",
   "id": "82eef1b6",
   "metadata": {},
   "source": [
    "## 1. 기본 사용"
   ]
  },
  {
   "cell_type": "code",
   "execution_count": 9,
   "id": "07d44054",
   "metadata": {},
   "outputs": [],
   "source": [
    "soup = BeautifulSoup(html, 'html.parser') #BeautifulSoup를 통해 soup라는 객체로 저장하기"
   ]
  },
  {
   "cell_type": "code",
   "execution_count": 10,
   "id": "b3ebc7fa",
   "metadata": {},
   "outputs": [],
   "source": [
    "h1 = soup.html.body.h1 #html -> body -> h1 태그의 문자열만 출력\n",
    "p1 = soup.html.body.p #html -> body -> p 태그의 문자열만 출력\n",
    "p2 = p1.next_sibling.next_sibling #<p> 태그의 형제 저장"
   ]
  },
  {
   "cell_type": "code",
   "execution_count": 11,
   "id": "4da91e4a",
   "metadata": {},
   "outputs": [
    {
     "name": "stdout",
     "output_type": "stream",
     "text": [
      "h1 = 스크레이핑이란?\n",
      "p  = 웹 페이지를 분석하는 것\n",
      "p  = 원하는 부분을 추출하는 것\n"
     ]
    }
   ],
   "source": [
    "print(f\"h1 = {h1.string}\") #{h1.string}에 해당하는 문자 출력하기\n",
    "print(f\"p  = {p1.string}\") #{p1.string}에 해당하는 문자 출력하기\n",
    "print(f\"p  = {p2.string}\") #{p2.string}에 해당하는 문자 출력하기"
   ]
  },
  {
   "cell_type": "markdown",
   "id": "fde0d636",
   "metadata": {},
   "source": [
    "## 2. 요소를 찾는 method"
   ]
  },
  {
   "cell_type": "code",
   "execution_count": 12,
   "id": "9621e336",
   "metadata": {},
   "outputs": [],
   "source": [
    "soup = BeautifulSoup(html, 'html.parser')"
   ]
  },
  {
   "cell_type": "code",
   "execution_count": 13,
   "id": "344700eb",
   "metadata": {},
   "outputs": [
    {
     "name": "stdout",
     "output_type": "stream",
     "text": [
      "<h1>스크레이핑이란?</h1>\n"
     ]
    }
   ],
   "source": [
    "title = soup.find(\"h1\") #find 메서드로 원하는 태그 출력하기\n",
    "body  = soup.find(\"p\")\n",
    "print(title)"
   ]
  },
  {
   "cell_type": "code",
   "execution_count": 14,
   "id": "c69e71f4",
   "metadata": {},
   "outputs": [
    {
     "name": "stdout",
     "output_type": "stream",
     "text": [
      "#title = 스크레이핑이란?\n",
      "#body = 웹 페이지를 분석하는 것\n"
     ]
    }
   ],
   "source": [
    "print(f\"#title = {title.string}\" ) #해당하는 텍스트 추출\n",
    "print(f\"#body = {body.string}\")"
   ]
  },
  {
   "cell_type": "code",
   "execution_count": 15,
   "id": "868ea76b",
   "metadata": {},
   "outputs": [],
   "source": [
    "html = \"\"\"\n",
    "<html><body>\n",
    "  <ul>\n",
    "    <li><a href=\"http://www.naver.com\">naver</a></li>\n",
    "    <li><a href=\"http://www.daum.net\">daum</a></li>\n",
    "  </ul>\n",
    "</body></html>\n",
    "\"\"\"\n",
    "\n",
    "soup = BeautifulSoup(html, 'html.parser')"
   ]
  },
  {
   "cell_type": "code",
   "execution_count": 16,
   "id": "cc6bf71e",
   "metadata": {},
   "outputs": [
    {
     "name": "stdout",
     "output_type": "stream",
     "text": [
      "[<a href=\"http://www.naver.com\">naver</a>, <a href=\"http://www.daum.net\">daum</a>] 2\n"
     ]
    }
   ],
   "source": [
    "links = soup.find_all(\"a\") #원하는 부분을 모두 가져올 수 있게 하는 find_all\n",
    "print(links, len(links))"
   ]
  },
  {
   "cell_type": "code",
   "execution_count": 17,
   "id": "e9d9410a",
   "metadata": {},
   "outputs": [
    {
     "name": "stdout",
     "output_type": "stream",
     "text": [
      "naver > http://www.naver.com\n",
      "daum > http://www.daum.net\n"
     ]
    }
   ],
   "source": [
    "#link 목록 추출\n",
    "for a in links:\n",
    "    href = a.attrs['href'] # href의 속성에 있는 속성값을 추출, attrs : 속성값 모두 출력\n",
    "    text = a.string \n",
    "    print(text, \">\", href)"
   ]
  },
  {
   "cell_type": "markdown",
   "id": "b83c56a5",
   "metadata": {},
   "source": [
    "# CSS Selector"
   ]
  },
  {
   "cell_type": "markdown",
   "id": "c7d2afe4",
   "metadata": {},
   "source": [
    "## 3.1 BeautifulSoup에서 Css Selector 사용하기"
   ]
  },
  {
   "cell_type": "code",
   "execution_count": 18,
   "id": "7a1897e8",
   "metadata": {},
   "outputs": [],
   "source": [
    "html = \"\"\"\n",
    "<html><body>\n",
    "<div id=\"meigen\">\n",
    "  <h1>위키북스 도서</h1>\n",
    "  <ul class=\"items\">\n",
    "    <li>유니티 게임 이펙트 입문</li>\n",
    "    <li>스위프트로 시작하는 아이폰 앱 개발 교과서</li>\n",
    "    <li>모던 웹사이트 디자인의 정석</li>\n",
    "  </ul>\n",
    "</div>\n",
    "</body></html>\n",
    "\"\"\"\n",
    "\n",
    "# HTML 분석\n",
    "soup = BeautifulSoup(html, 'html.parser')"
   ]
  },
  {
   "cell_type": "code",
   "execution_count": 19,
   "id": "77a15397",
   "metadata": {},
   "outputs": [
    {
     "name": "stdout",
     "output_type": "stream",
     "text": [
      "h1 = 위키북스 도서\n",
      "li = 유니티 게임 이펙트 입문\n",
      "li = 스위프트로 시작하는 아이폰 앱 개발 교과서\n",
      "li = 모던 웹사이트 디자인의 정석\n"
     ]
    }
   ],
   "source": [
    "# 타이틀 부분 추출\n",
    "h1 = soup.select_one(\"div#meigen > h1\").string #select_one()은 조건에 맞는 태그를 한개 가져옴\n",
    "print(f\"h1 = {h1}\") #해당 부분 텍스트 출력\n",
    "\n",
    "# 목록 부분 추출\n",
    "li_list = soup.select(\"div#meigen > ul.items > li\") #select()는 조건에 맞는 태그를 여러개 가져옴\n",
    "for li in li_list: #반복문을 사용하여 목록 모두 출력\n",
    "  print(f\"li = {li.string}\")"
   ]
  },
  {
   "cell_type": "markdown",
   "id": "76a39162",
   "metadata": {},
   "source": [
    "# 활용 예제"
   ]
  },
  {
   "cell_type": "code",
   "execution_count": 20,
   "id": "067583c9",
   "metadata": {},
   "outputs": [],
   "source": [
    "from bs4 import BeautifulSoup\n",
    "from urllib import request, parse"
   ]
  },
  {
   "cell_type": "markdown",
   "id": "14295ce5",
   "metadata": {},
   "source": [
    "## 4.1. 네이버 금융 - 환율 정보"
   ]
  },
  {
   "cell_type": "code",
   "execution_count": 21,
   "id": "2412b6cb",
   "metadata": {},
   "outputs": [],
   "source": [
    "url = \"https://finance.naver.com/marketindex/\" #네이버 금융의 시장 지표 페이지\n",
    "res = request.urlopen(url) #url 열기"
   ]
  },
  {
   "cell_type": "code",
   "execution_count": 22,
   "id": "035696ae",
   "metadata": {},
   "outputs": [],
   "source": [
    "soup = BeautifulSoup(res, \"html.parser\") #html 분석"
   ]
  },
  {
   "cell_type": "code",
   "execution_count": 23,
   "id": "2ac986f7",
   "metadata": {},
   "outputs": [
    {
     "name": "stdout",
     "output_type": "stream",
     "text": [
      "usd/krw = 1,174.00\n"
     ]
    }
   ],
   "source": [
    "price = soup.select_one(\"div.head_info > span.value\").string #.string으로 문자열 객체화\n",
    "print(\"usd/krw =\", price)"
   ]
  },
  {
   "cell_type": "markdown",
   "id": "1ad293f5",
   "metadata": {},
   "source": [
    "## 4.2. 기상청 RSS"
   ]
  },
  {
   "cell_type": "code",
   "execution_count": 24,
   "id": "8228c2da",
   "metadata": {},
   "outputs": [
    {
     "name": "stdout",
     "output_type": "stream",
     "text": [
      "url= http://www.kma.go.kr/weather/forecast/mid-term-rss3.jsp?stnId=109\n"
     ]
    }
   ],
   "source": [
    "url = \"http://www.kma.go.kr/weather/forecast/mid-term-rss3.jsp\"\n",
    "\n",
    "#매개변수를 URL로 인코딩\n",
    "values = {\n",
    "    'stnId':'109'\n",
    "}\n",
    "\n",
    "params=parse.urlencode(values) #urlencode함수는 인코딩된 쿼리스트링을 문자열로 반환\n",
    "url += \"?\"+params # URL에 매개변수 추가\n",
    "print(\"url=\", url)\n",
    "\n",
    "res = request.urlopen(url)"
   ]
  },
  {
   "cell_type": "code",
   "execution_count": 25,
   "id": "831ee147",
   "metadata": {},
   "outputs": [],
   "source": [
    "soup = BeautifulSoup(res, \"html.parser\") #html 분석"
   ]
  },
  {
   "cell_type": "code",
   "execution_count": 26,
   "id": "38ebe876",
   "metadata": {},
   "outputs": [
    {
     "name": "stdout",
     "output_type": "stream",
     "text": [
      "서울,경기도 육상중기예보\n",
      "○ (강수) 29일(수) 오후에는 비가 내리겠습니다.<br />○ (기온) 이번 예보기간 아침최저기온은 14~20도, 낮최고기온은 24~27도로 오늘(23일, 아침최저기온 14~19도, 낮최고기온 25~26도)과 비슷하겠습니다.<br />○ (해상) 서해중부해상의 물결은 1.0~2.0m로 일겠습니다.\n"
     ]
    }
   ],
   "source": [
    "#첫번째 방법\n",
    "header = soup.find(\"header\")\n",
    "\n",
    "title = header.find(\"title\").text #.text로 하위 자식태그의 텍스트까지 문자열로 반환\n",
    "wf = header.find(\"wf\").text\n",
    "\n",
    "print(title)\n",
    "print(wf)"
   ]
  },
  {
   "cell_type": "code",
   "execution_count": 27,
   "id": "7c6ec4a9",
   "metadata": {},
   "outputs": [
    {
     "name": "stdout",
     "output_type": "stream",
     "text": [
      "서울,경기도 육상중기예보\n",
      "○ (강수) 29일(수) 오후에는 비가 내리겠습니다.<br />○ (기온) 이번 예보기간 아침최저기온은 14~20도, 낮최고기온은 24~27도로 오늘(23일, 아침최저기온 14~19도, 낮최고기온 25~26도)과 비슷하겠습니다.<br />○ (해상) 서해중부해상의 물결은 1.0~2.0m로 일겠습니다.\n"
     ]
    }
   ],
   "source": [
    "#두번째 방법 - css selector 기반\n",
    "title = soup.select_one(\"header > title\").text\n",
    "wf = header.select_one(\"header wf\").text\n",
    "\n",
    "print(title)\n",
    "print(wf)"
   ]
  },
  {
   "cell_type": "markdown",
   "id": "1e2bcca9",
   "metadata": {},
   "source": [
    "## 4.3. 윤동주 작가의 작품 목록"
   ]
  },
  {
   "cell_type": "code",
   "execution_count": 28,
   "id": "caab3e92",
   "metadata": {},
   "outputs": [
    {
     "name": "stdout",
     "output_type": "stream",
     "text": [
      "- 하늘과 바람과 별과 시\n",
      "- 증보판\n",
      "- 서시\n",
      "- 자화상\n",
      "- 소년\n",
      "- 눈 오는 지도\n",
      "- 돌아와 보는 밤\n",
      "- 병원\n",
      "- 새로운 길\n",
      "- 간판 없는 거리\n",
      "- 태초의 아침\n",
      "- 또 태초의 아침\n",
      "- 새벽이 올 때까지\n",
      "- 무서운 시간\n",
      "- 십자가\n",
      "- 바람이 불어\n",
      "- 슬픈 족속\n",
      "- 눈감고 간다\n",
      "- 또 다른 고향\n",
      "- 길\n",
      "- 별 헤는 밤\n",
      "- 흰 그림자\n",
      "- 사랑스런 추억\n",
      "- 흐르는 거리\n",
      "- 쉽게 씌어진 시\n",
      "- 봄\n",
      "- 참회록\n",
      "- 간(肝)\n",
      "- 위로\n",
      "- 팔복\n",
      "- 못자는밤\n",
      "- 달같이\n",
      "- 고추밭\n",
      "- 아우의 인상화\n",
      "- 사랑의 전당\n",
      "- 이적\n",
      "- 비오는 밤\n",
      "- 산골물\n",
      "- 유언\n",
      "- 창\n",
      "- 바다\n",
      "- 비로봉\n",
      "- 산협의 오후\n",
      "- 명상\n",
      "- 소낙비\n",
      "- 한난계\n",
      "- 풍경\n",
      "- 달밤\n",
      "- 장\n",
      "- 밤\n",
      "- 황혼이 바다가 되어\n",
      "- 아침\n",
      "- 빨래\n",
      "- 꿈은 깨어지고\n",
      "- 산림\n",
      "- 이런날\n",
      "- 산상\n",
      "- 양지쪽\n",
      "- 닭\n",
      "- 가슴 1\n",
      "- 가슴 2\n",
      "- 비둘기\n",
      "- 황혼\n",
      "- 남쪽 하늘\n",
      "- 창공\n",
      "- 거리에서\n",
      "- 삶과 죽음\n",
      "- 초한대\n",
      "- 산울림\n",
      "- 해바라기 얼굴\n",
      "- 귀뚜라미와 나와\n",
      "- 애기의 새벽\n",
      "- 햇빛·바람\n",
      "- 반디불\n",
      "- 둘 다\n",
      "- 거짓부리\n",
      "- 눈\n",
      "- 참새\n",
      "- 버선본\n",
      "- 편지\n",
      "- 봄\n",
      "- 무얼 먹구 사나\n",
      "- 굴뚝\n",
      "- 햇비\n",
      "- 빗자루\n",
      "- 기왓장 내외\n",
      "- 오줌싸개 지도\n",
      "- 병아리\n",
      "- 조개껍질\n",
      "- 겨울\n",
      "- 트루게네프의 언덕\n",
      "- 달을 쏘다\n",
      "- 별똥 떨어진 데\n",
      "- 화원에 꽃이 핀다\n",
      "- 종시\n"
     ]
    }
   ],
   "source": [
    "url = \"https://ko.wikisource.org/wiki/%EC%A0%80%EC%9E%90:%EC%9C%A4%EB%8F%99%EC%A3%BC\"\n",
    "res = request.urlopen(url)\n",
    "soup = BeautifulSoup(res, \"html.parser\") \n",
    "\n",
    "a_list = soup.select(\"#mw-content-text   ul > li  a\") #mw-content-text->ul->li->a\n",
    "for a in a_list:\n",
    "    name = a.string\n",
    "    print(f\"- {name}\", )"
   ]
  },
  {
   "cell_type": "markdown",
   "id": "fcc4b1a3",
   "metadata": {},
   "source": [
    "# 일반문제"
   ]
  },
  {
   "cell_type": "code",
   "execution_count": 29,
   "id": "fdec34ee",
   "metadata": {},
   "outputs": [],
   "source": [
    "from bs4 import BeautifulSoup\n",
    "from urllib import request"
   ]
  },
  {
   "cell_type": "markdown",
   "id": "9265fd79",
   "metadata": {},
   "source": [
    "## 1. 네이버 뉴스 헤드라인"
   ]
  },
  {
   "cell_type": "code",
   "execution_count": 30,
   "id": "ab592492",
   "metadata": {},
   "outputs": [
    {
     "name": "stdout",
     "output_type": "stream",
     "text": [
      "\n",
      "                                        '오징어게임' 이정재가 받은 명함 속 번호 \"내가 10년째 사용, 번호 노출에 황당\"\n",
      "                                    \n",
      "\n",
      "                                        미 국방부 \"종전선언 논의 열려있다…북한 대화에도 전념\"\n",
      "                                    \n",
      "\n",
      "                                        ‘업계 1위’ 서울유유 가격 올린다... 유제품 ‘도미노 인상’ 우려\n",
      "                                    \n",
      "\n",
      "                                        \"명백한 표절·후보 안 나오는 라방\"…윤석열 맹공 퍼붓는 유승민 캠프\n",
      "                                    \n",
      "\n",
      "                                        추석 끝나자마자 '폭증세'…오후 6시까지 전국 1,802명\n",
      "                                    \n"
     ]
    }
   ],
   "source": [
    "url = \"https://news.naver.com/\"\n",
    "\n",
    "res = request.urlopen(url)\n",
    "soup = BeautifulSoup(res, \"html.parser\")\n",
    "\n",
    "selector = \"#today_main_news > div.hdline_news > ul > li > div.hdline_article_tit > a\" #오늘메인뉴스 속 헤드라인 뉴스의 타이틀 추출\n",
    "\n",
    "for a in soup.select(selector):\n",
    "    title = a.text\n",
    "    print(title)"
   ]
  },
  {
   "cell_type": "markdown",
   "id": "d4cb5c9d",
   "metadata": {},
   "source": [
    "## 2. 시민의 소리 게시판"
   ]
  },
  {
   "cell_type": "code",
   "execution_count": 31,
   "id": "f0ce1b09",
   "metadata": {},
   "outputs": [
    {
     "name": "stdout",
     "output_type": "stream",
     "text": [
      "['어린이를 위한 공원내 식당에 아기를 위한 시설 부족(아기의자가 왜 없죠?)', '강창수 해설사님 ', '동물해설사님 칭찬', '강창수 동물 해설사님', '놀이동산 푸드코트 김치가 중국산인 이유는?', '주슨트 설명 최고예요!!', '강창수 주슨트님 최고 !!', 'ZOOCENT 스케줄표?', '호주동물 호주설명 ', '호주및 호주동물 설명에 대해 '] ['https://www.sisul.or.kr/open_content/childrenpark/qna/qnaMsgDetail.do;jsessionid=1tnFRG24B4epM7v2otC5X0oe4KaKysCmZMISKEbMPVQ1xDLKpRTqzI1wxasXq1Hd.etisw1_servlet_user?qnaid=QNAS20210923000005&pgno=1', 'https://www.sisul.or.kr/open_content/childrenpark/qna/qnaMsgDetail.do;jsessionid=1tnFRG24B4epM7v2otC5X0oe4KaKysCmZMISKEbMPVQ1xDLKpRTqzI1wxasXq1Hd.etisw1_servlet_user?qnaid=QNAS20210920000001&pgno=1', 'https://www.sisul.or.kr/open_content/childrenpark/qna/qnaMsgDetail.do;jsessionid=1tnFRG24B4epM7v2otC5X0oe4KaKysCmZMISKEbMPVQ1xDLKpRTqzI1wxasXq1Hd.etisw1_servlet_user?qnaid=QNAS20210919000004&pgno=1', 'https://www.sisul.or.kr/open_content/childrenpark/qna/qnaMsgDetail.do;jsessionid=1tnFRG24B4epM7v2otC5X0oe4KaKysCmZMISKEbMPVQ1xDLKpRTqzI1wxasXq1Hd.etisw1_servlet_user?qnaid=QNAS20210919000003&pgno=1', 'https://www.sisul.or.kr/open_content/childrenpark/qna/qnaMsgDetail.do;jsessionid=1tnFRG24B4epM7v2otC5X0oe4KaKysCmZMISKEbMPVQ1xDLKpRTqzI1wxasXq1Hd.etisw1_servlet_user?qnaid=QNAS20210918000002&pgno=1', 'https://www.sisul.or.kr/open_content/childrenpark/qna/qnaMsgDetail.do;jsessionid=1tnFRG24B4epM7v2otC5X0oe4KaKysCmZMISKEbMPVQ1xDLKpRTqzI1wxasXq1Hd.etisw1_servlet_user?qnaid=QNAS20210909000001&pgno=1', 'https://www.sisul.or.kr/open_content/childrenpark/qna/qnaMsgDetail.do;jsessionid=1tnFRG24B4epM7v2otC5X0oe4KaKysCmZMISKEbMPVQ1xDLKpRTqzI1wxasXq1Hd.etisw1_servlet_user?qnaid=QNAS20210908000004&pgno=1', 'https://www.sisul.or.kr/open_content/childrenpark/qna/qnaMsgDetail.do;jsessionid=1tnFRG24B4epM7v2otC5X0oe4KaKysCmZMISKEbMPVQ1xDLKpRTqzI1wxasXq1Hd.etisw1_servlet_user?qnaid=QNAS20210906000002&pgno=1', 'https://www.sisul.or.kr/open_content/childrenpark/qna/qnaMsgDetail.do;jsessionid=1tnFRG24B4epM7v2otC5X0oe4KaKysCmZMISKEbMPVQ1xDLKpRTqzI1wxasXq1Hd.etisw1_servlet_user?qnaid=QNAS20210904000006&pgno=1', 'https://www.sisul.or.kr/open_content/childrenpark/qna/qnaMsgDetail.do;jsessionid=1tnFRG24B4epM7v2otC5X0oe4KaKysCmZMISKEbMPVQ1xDLKpRTqzI1wxasXq1Hd.etisw1_servlet_user?qnaid=QNAS20210904000004&pgno=1']\n"
     ]
    }
   ],
   "source": [
    "url_head = \"https://www.sisul.or.kr\"\n",
    "\n",
    "url_board = url_head + \"/open_content/childrenpark/qna/qnaMsgList.do?pgno=1\"\n",
    "\n",
    "res = request.urlopen(url_board)\n",
    "soup = BeautifulSoup(res, \"html.parser\")\n",
    "\n",
    "selector = \"#detail_con > div.generalboard > table > tbody > tr > td.left.title > a\"\n",
    "titles = []\n",
    "links = []\n",
    "for a in soup.select(selector):\n",
    "    titles.append(a.text) \n",
    "    links.append(url_head + a.attrs[\"href\"]) ## href의 속성에 있는 속성값을 추출에서 붙이기, attrs : 속성값 모두 출력\n",
    "    \n",
    "print(titles, links) #타이틀과 링크를 붙여서 함께 출력"
   ]
  },
  {
   "cell_type": "markdown",
   "id": "a91cc2f0",
   "metadata": {},
   "source": [
    "## 추가 내용"
   ]
  },
  {
   "cell_type": "code",
   "execution_count": 32,
   "id": "5df36e5d",
   "metadata": {},
   "outputs": [
    {
     "data": {
      "text/html": [
       "<div>\n",
       "<style scoped>\n",
       "    .dataframe tbody tr th:only-of-type {\n",
       "        vertical-align: middle;\n",
       "    }\n",
       "\n",
       "    .dataframe tbody tr th {\n",
       "        vertical-align: top;\n",
       "    }\n",
       "\n",
       "    .dataframe thead th {\n",
       "        text-align: right;\n",
       "    }\n",
       "</style>\n",
       "<table border=\"1\" class=\"dataframe\">\n",
       "  <thead>\n",
       "    <tr style=\"text-align: right;\">\n",
       "      <th></th>\n",
       "      <th>title</th>\n",
       "      <th>link</th>\n",
       "    </tr>\n",
       "  </thead>\n",
       "  <tbody>\n",
       "    <tr>\n",
       "      <th>0</th>\n",
       "      <td>어린이를 위한 공원내 식당에 아기를 위한 시설 부족(아기의자가 왜 없죠?)</td>\n",
       "      <td>https://www.sisul.or.kr/open_content/childrenp...</td>\n",
       "    </tr>\n",
       "    <tr>\n",
       "      <th>1</th>\n",
       "      <td>강창수 해설사님</td>\n",
       "      <td>https://www.sisul.or.kr/open_content/childrenp...</td>\n",
       "    </tr>\n",
       "    <tr>\n",
       "      <th>2</th>\n",
       "      <td>동물해설사님 칭찬</td>\n",
       "      <td>https://www.sisul.or.kr/open_content/childrenp...</td>\n",
       "    </tr>\n",
       "    <tr>\n",
       "      <th>3</th>\n",
       "      <td>강창수 동물 해설사님</td>\n",
       "      <td>https://www.sisul.or.kr/open_content/childrenp...</td>\n",
       "    </tr>\n",
       "    <tr>\n",
       "      <th>4</th>\n",
       "      <td>놀이동산 푸드코트 김치가 중국산인 이유는?</td>\n",
       "      <td>https://www.sisul.or.kr/open_content/childrenp...</td>\n",
       "    </tr>\n",
       "  </tbody>\n",
       "</table>\n",
       "</div>"
      ],
      "text/plain": [
       "                                       title  \\\n",
       "0  어린이를 위한 공원내 식당에 아기를 위한 시설 부족(아기의자가 왜 없죠?)   \n",
       "1                                  강창수 해설사님    \n",
       "2                                  동물해설사님 칭찬   \n",
       "3                                강창수 동물 해설사님   \n",
       "4                    놀이동산 푸드코트 김치가 중국산인 이유는?   \n",
       "\n",
       "                                                link  \n",
       "0  https://www.sisul.or.kr/open_content/childrenp...  \n",
       "1  https://www.sisul.or.kr/open_content/childrenp...  \n",
       "2  https://www.sisul.or.kr/open_content/childrenp...  \n",
       "3  https://www.sisul.or.kr/open_content/childrenp...  \n",
       "4  https://www.sisul.or.kr/open_content/childrenp...  "
      ]
     },
     "execution_count": 32,
     "metadata": {},
     "output_type": "execute_result"
    }
   ],
   "source": [
    "# 수집된 자료를 데이터프레임으로 만들어 csv로 저장하는 것이 일반적\n",
    "import pandas as pd\n",
    "\n",
    "board_df = pd.DataFrame({\"title\": titles, \"link\": links}) #타이틀과 링크를 붙여서 데이터프레임으로 만들기\n",
    "board_df.head() #5개만 출력"
   ]
  }
 ],
 "metadata": {
  "kernelspec": {
   "display_name": "Python 3",
   "language": "python",
   "name": "python3"
  },
  "language_info": {
   "codemirror_mode": {
    "name": "ipython",
    "version": 3
   },
   "file_extension": ".py",
   "mimetype": "text/x-python",
   "name": "python",
   "nbconvert_exporter": "python",
   "pygments_lexer": "ipython3",
   "version": "3.8.8"
  }
 },
 "nbformat": 4,
 "nbformat_minor": 5
}
